{
 "cells": [
  {
   "attachments": {},
   "cell_type": "markdown",
   "metadata": {},
   "source": [
    "## Conocimientos Necesarios\n",
    "\n",
    "### TERMOSICLADOR"
   ]
  },
  {
   "attachments": {},
   "cell_type": "markdown",
   "metadata": {},
   "source": [
    "*participantes:*\n",
    "1. Carolina Ramirez Lopez\n",
    "2. Marco Rojas\n",
    "3. Manuel Enrique Garcia Neve"
   ]
  },
  {
   "attachments": {},
   "cell_type": "markdown",
   "metadata": {},
   "source": [
    "[sintaxis de markdown ](https://markdown.es/sintaxis-markdown/#links)\n",
    "\n",
    "aqui encontraremos un par de cosas las cuales son fundamentales para el proyecto del termosiclador el cual nos permitira hacer la replicacion de partes especifacas del ADN"
   ]
  },
  {
   "attachments": {},
   "cell_type": "markdown",
   "metadata": {},
   "source": [
    "__electronica suigerda:__\n",
    "*   \n",
    "*  \n",
    "*    \n",
    "*   \n",
    "*   \n",
    "*   \n",
    "*   \n",
    "*   \n",
    "*   \n",
    "*   \n",
    "*   \n",
    "*   \n",
    "\n",
    "\n"
   ]
  },
  {
   "attachments": {},
   "cell_type": "markdown",
   "metadata": {},
   "source": [
    "__conocimiento en programacion sugerido:__\n",
    "* python\n",
    "* uso de GPIO\n",
    "* creacion de ventanas python\n",
    "* puerto serial\n"
   ]
  },
  {
   "attachments": {},
   "cell_type": "markdown",
   "metadata": {},
   "source": [
    "### interface:\n",
    "code: pyinstaller --onefile -w (nombre del programa).py\n",
    "\n",
    "para crear el instalador del programa para PC el cual nos permita crear el programa tal cual nosotros conocemos \n",
    "un porgrama \n",
    "\n",
    "\n",
    "### interface programada:\n",
    "uso de libreria en Tkinter para la carcion de ventanas y lo que uno decee:\n",
    "[informacion tkinter ](https://docs.python.org/es/3/library/tkinter.html)\n"
   ]
  }
 ],
 "metadata": {
  "language_info": {
   "name": "python"
  },
  "orig_nbformat": 4
 },
 "nbformat": 4,
 "nbformat_minor": 2
}
